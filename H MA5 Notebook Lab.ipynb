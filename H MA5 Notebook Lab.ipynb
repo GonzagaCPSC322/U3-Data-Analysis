{
 "cells": [
  {
   "cell_type": "markdown",
   "metadata": {},
   "source": [
    "Note: due to a recent Github issue rendering Jupyter Notebooks, images in Notebooks are not appearing. Until it is fixed, I recommend viewing this Notebook with nbviewer: https://nbviewer.org/github/GonzagaCPSC322/U3-Data-Analysis/blob/master/H%20MA5%20Notebook%20Lab.ipynb?flush_cache=true\n",
    "\n",
    "# [CPSC 322](https://github.com/GonzagaCPSC322) Data Science Algorithms\n",
    "[Gonzaga University](https://www.gonzaga.edu/)\n",
    "\n",
    "[Gina Sprint](http://cs.gonzaga.edu/faculty/sprint/)\n",
    "\n",
    "# MA5 Notebook Lab\n",
    "What are our learning objectives for this lesson?\n",
    "* Practice working with the syntax for Markdown and Latex\n",
    "* Practice visualizing data with Matplotlib\n",
    "\n",
    "Content used in this lesson is based upon information in the following sources:\n",
    "* None to report"
   ]
  },
  {
   "cell_type": "markdown",
   "metadata": {},
   "source": [
    "## Lab Overview\n",
    "Create an MA5 director and cd inside it create a new Notebook called NotebookLab.ipynb. In NotebookLab.ipynb:\n",
    "1. Add a title (e.g., MA5 Notebook Lab) and your name\n",
    "1. Then, for each of the following tasks:\n",
    "    1. Add a section header and a description of the task\n",
    "    1. Add the necessary code/Markdown cells to complete the task\n",
    "\n",
    "### Task 1\n",
    "Typeset the following equations from Appendix A of Bramer:\n",
    "<img src=\"https://raw.githubusercontent.com/GonzagaCPSC322/U3-Data-Analysis/master/figures/log_properties.png\" width=\"600\"/>\n",
    "\n",
    "<img src=\"https://raw.githubusercontent.com/GonzagaCPSC322/U3-Data-Analysis/master/figures/double_subscript_notation.png\" width=\"600\"/>\n",
    "\n",
    "Then, cite the Bramer textbook as a source for the above equations by including an inline link to the Amazon page for the book.\n",
    "\n",
    "### Task 2\n",
    "1. Typeset the formula for computing the mean of a sequence of numbers $a$. Use `\\frac` to do this.\n",
    "1. Follow the formula with a code cell that contains the following:\n",
    "    1. A function definition for computing the mean of a 1D list of numbers\n",
    "    1. Declaration of 2 lists, each with 100 random numbers\n",
    "    1. Calls to your mean function to calculate the mean of each list\n",
    "    1. Create a Matplotlib chart of your 2 lists (however you see fit)\n",
    "        1. Add a scatter marker for the mean\n",
    "        1. (BONUS - 1 pt): Label the mean point with \"mean\" and point to it with an arrow. Read about [matplotlib annotations](https://matplotlib.org/users/annotations.html) to help you with this!"
   ]
  }
 ],
 "metadata": {
  "anaconda-cloud": {},
  "kernelspec": {
   "display_name": "Python 3",
   "language": "python",
   "name": "python3"
  },
  "language_info": {
   "codemirror_mode": {
    "name": "ipython",
    "version": 3
   },
   "file_extension": ".py",
   "mimetype": "text/x-python",
   "name": "python",
   "nbconvert_exporter": "python",
   "pygments_lexer": "ipython3",
   "version": "3.8.5"
  }
 },
 "nbformat": 4,
 "nbformat_minor": 4
}
