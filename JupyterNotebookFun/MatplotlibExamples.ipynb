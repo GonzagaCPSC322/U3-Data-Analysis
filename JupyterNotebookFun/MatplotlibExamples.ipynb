{
 "cells": [
  {
   "cell_type": "markdown",
   "metadata": {},
   "source": [
    "# Data Visualization\n",
    "EDA: exploratory data analysis\n",
    "1. Compute summary stats\n",
    "1. Generate data visualizations\n",
    "\n",
    "## Goals of Data Vis\n",
    "1. Clearly and accurately represent data\n",
    "1. Be creative, with the goal of increading readability\n",
    "1. Label units, axes, and points of interests\n",
    "\n",
    "## Some Jargon\n",
    "Chart: 2D visualization\n",
    "* Plot: a chart of data points (e.g. scatter plot)\n",
    "* Graph: a chart of a mathematical function (e.g. sine curve)\n",
    "\n",
    "## Ways to use Matplotlib\n",
    "1. Use the pyplot module: like a state machine (e.g. there is always a \"current figure\")\n",
    "1. Use the OOP interface: maintain object references\n",
    "1. Mix of the two\n",
    "\n",
    "# Matplotlib Chart Examples\n",
    "## Line Chart Example"
   ]
  },
  {
   "cell_type": "code",
   "execution_count": null,
   "metadata": {},
   "outputs": [],
   "source": [
    "import matplotlib.pyplot as plt \n",
    "\n",
    "def line_chart_example(x, y, y3):\n",
    "    plt.figure() # create a new \"current figure\"\n",
    "    plt.plot(x, y, label=\"$y=x^2$\")\n",
    "    # plt.figure()\n",
    "    plt.plot(x, y3, c=\"green\", lw=5, label=\"$y=x^3$\")\n",
    "    # add some labels\n",
    "    plt.legend()\n",
    "    plt.title(\"Our First Line Chart\")\n",
    "    plt.xlabel(\"X Units\")\n",
    "    plt.ylabel(\"Y Units\")\n",
    "    plt.grid(True)\n",
    "    # customize the x tick locations and labels\n",
    "    xtick_labels = [\"zero\", \"one\", \"two\", \"three super long label to overlap\", \"four\"]\n",
    "    plt.xticks(x, xtick_labels, rotation=15, ha=\"right\")\n",
    "    plt.show()\n",
    "\n",
    "# we need some data\n",
    "x = list(range(5))\n",
    "y2 = [val ** 2 for val in x]\n",
    "# task: add another to the figure for y = x^3\n",
    "y3 = [val ** 3 for val in x]\n",
    "line_chart_example(x, y2, y3)"
   ]
  },
  {
   "cell_type": "markdown",
   "metadata": {},
   "source": [
    "## Scatter Charts\n",
    "Plus saving a chart to a file (e.g. PDF, PNG, etc.)"
   ]
  },
  {
   "cell_type": "code",
   "execution_count": null,
   "metadata": {},
   "outputs": [],
   "source": [
    "import numpy as np\n",
    "\n",
    "def scatter_chart_example(x, y):\n",
    "    plt.figure() # make a new current figure\n",
    "    plt.scatter(x, y, marker=\"x\", s=100, c=\"purple\")\n",
    "\n",
    "    # you can save a figure to a file\n",
    "    plt.tight_layout() # nice function to call right before rendering\n",
    "    plt.savefig(\"scatter_chart.pdf\")\n",
    "    plt.show()\n",
    "    \n",
    "# we need data    \n",
    "x = list(range(50))\n",
    "y = [np.random.normal(100, 10) + value for value in x]\n",
    "scatter_chart_example(x, y)"
   ]
  },
  {
   "cell_type": "markdown",
   "metadata": {},
   "source": [
    "## Bar Charts"
   ]
  },
  {
   "cell_type": "code",
   "execution_count": null,
   "metadata": {},
   "outputs": [],
   "source": [
    "def bar_chart_example(x, y):\n",
    "    plt.figure()\n",
    "    plt.bar(x, y)\n",
    "    plt.show()\n",
    "    \n",
    "# back to y=x^2\n",
    "x = list(range(5))\n",
    "y = [value ** 2 for value in x]\n",
    "bar_chart_example(x, y)"
   ]
  },
  {
   "cell_type": "markdown",
   "metadata": {},
   "source": [
    "## Pie Charts"
   ]
  },
  {
   "cell_type": "code",
   "execution_count": null,
   "metadata": {},
   "outputs": [],
   "source": [
    "def pie_chart_example(x, y):\n",
    "    plt.figure()\n",
    "    plt.pie(y, labels=x, autopct=\"%1.1f%%\")\n",
    "    plt.show()\n",
    "    \n",
    "pie_chart_example(x, y)"
   ]
  },
  {
   "cell_type": "markdown",
   "metadata": {},
   "source": [
    "## Histograms"
   ]
  },
  {
   "cell_type": "code",
   "execution_count": null,
   "metadata": {},
   "outputs": [],
   "source": [
    "def histogram_example(data):\n",
    "    # data is a 1D list of data values\n",
    "    plt.figure()\n",
    "    plt.hist(data, bins=10) # default is 10\n",
    "    plt.show()\n",
    "    \n",
    "# let's generate some random \"normal\" data\n",
    "import numpy as np \n",
    "mean = 100 # mu\n",
    "stdev = 10 # sigma \n",
    "num_samples = 1000 \n",
    "normal_data = np.random.normal(mean, stdev, num_samples)\n",
    "histogram_example(normal_data)"
   ]
  },
  {
   "cell_type": "markdown",
   "metadata": {},
   "source": [
    "## Box Plots"
   ]
  },
  {
   "cell_type": "code",
   "execution_count": null,
   "metadata": {},
   "outputs": [],
   "source": [
    "def box_plot_example(distributions): # distributions and labels are parallel\n",
    "    # distributions: list of 1D lists of values\n",
    "    plt.figure()\n",
    "    plt.boxplot(distributions)\n",
    "    # boxes correspond to the 1st and 3rd quartiles\n",
    "    # line in the middle of the box corresponds to the 2nd quartile (AKA median)\n",
    "    # whiskers corresponds to +/- 1.5 * IQR\n",
    "    # IQR: interquartile range (3rd quartile - 1st quartile)\n",
    "    # circles outside the whiskers correspond to outliers\n",
    "    \n",
    "    # annotations\n",
    "    # we want to add \"mu=100\" to the center of our figure\n",
    "    # xycoords=\"data\": default, specify the location of the label in the same\n",
    "    # xycoords = \"axes fraction\": specify the location of the label in absolute\n",
    "    # axes coordinates... 0,0 is the lower left corner, 1,1 is the upper right corner\n",
    "    # coordinates as the plotted data\n",
    "    plt.annotate(\"$\\mu=100$\", xy=(1.5, 105), xycoords=\"data\", horizontalalignment=\"center\")\n",
    "    plt.annotate(\"$\\mu=100$\", xy=(0.5, 0.5), xycoords=\"axes fraction\", \n",
    "                 horizontalalignment=\"center\", color=\"blue\")\n",
    "\n",
    "    plt.show()\n",
    "    \n",
    "normal_data2 = np.random.normal(mean, stdev / 2, num_samples)\n",
    "box_plot_example([normal_data, normal_data2])"
   ]
  },
  {
   "cell_type": "markdown",
   "metadata": {},
   "source": [
    "## Data Viz Warm-up Task(s)\n",
    "1. In utils.py, write a function that returns the frequencies (occurrence counts) of values for a table's (continuous) attribute.\n",
    "    * Example: The call `get_frequencies(msrp_table, msrp_header, \"ModelYear\")` for the `msrp_table` and `msrp_header` from DataPreparationFun should return the parallel arrays: `[75, 76, 77]` and `[2, 1, 1]`\n",
    "    * Note: It would be good to add a few more rows to `msrp_table` for testing\n",
    "    * Then, create a bar and a pie chart for the model year counts\n",
    "1. Add another histogram with mean=100, stdev=5 to the same histogram figure\n",
    "    1. New histogram narrower or wider than the original (blue)?\n",
    "1. Add a parameter to `box_plot_example()` called `labels`\n",
    "    1. `labels` is a 1D list of x-axis labels. Replace the 1 and 2 on the x axis `labels`\n",
    "    1. Call `box_plot_example()` passing in descriptions for the 2 distributions"
   ]
  },
  {
   "cell_type": "code",
   "execution_count": null,
   "metadata": {},
   "outputs": [],
   "source": []
  },
  {
   "cell_type": "markdown",
   "metadata": {},
   "source": [
    "## Group By Warm-up Task(s)\n",
    "Read the Group By section [here](https://github.com/GonzagaCPSC322/U3-Data-Analysis/blob/master/E%20Data%20Visualization.ipynb). Then in utils.py:\n",
    "\n",
    "* Write a group by function that takes a table and an attribute index, partitions the rows of the table by the attribute, and then returns the resulting partitions (as a list of \"tables\")\n",
    "* Test your function on ModelYear attribute\n",
    "    * It would be good to add a few more rows to msrp_table for testing\n",
    "* Visualize the data with model year on the x-axis, MSRP on the y-axis, and one box and whisker for each model year"
   ]
  },
  {
   "cell_type": "code",
   "execution_count": null,
   "metadata": {},
   "outputs": [],
   "source": []
  },
  {
   "cell_type": "markdown",
   "metadata": {},
   "source": [
    "## Discretization\n",
    "Converting a numeric (continuous) attribute to be categorical (discrete). Lots of ways to do this:\n",
    "* We will do equal widths binning\n",
    "    * We will have N bins with N + 1 cutoffs that define the bins\n",
    "    * Because `plt.hist()` and `np.histogram()` use N + 1 cutoffs\n",
    "        * The first and the last cutoffs are the min and max respectively\n",
    "        * Each bin is half open (e.g. `[ , )`) except the last bin is closed"
   ]
  },
  {
   "cell_type": "code",
   "execution_count": null,
   "metadata": {},
   "outputs": [],
   "source": [
    "# we need data\n",
    "np.random.seed(0)\n",
    "values = np.random.choice(100, 20) # 20 ints in [0, 100) sampled with replacement\n",
    "values = sorted(list(values))\n",
    "print(values)\n",
    "plt_freqs, plt_cutoffs, plt_artists = plt.hist(values, bins=5, edgecolor=\"black\")\n",
    "print(\"plt_cutoffs:\", plt_cutoffs)\n",
    "print(\"plt_freqs:\", plt_freqs)"
   ]
  },
  {
   "cell_type": "markdown",
   "metadata": {},
   "source": [
    "## Discretization Lab\n",
    "1. Given a list of values and the number of equal-width bins to create (N), write a function to return a list of the N + 1 cutoff points.\n",
    "1. Given a list of values and a list of N + 1 cutoff points, write a function to return the corresponding frequencies of the N bins.\n",
    "1. Given a list of the N bins and the N frequencies of the bins, write a function to produce a histogram that matches that produced with the same data by plt.hist()"
   ]
  },
  {
   "cell_type": "code",
   "execution_count": null,
   "metadata": {},
   "outputs": [],
   "source": []
  }
 ],
 "metadata": {
  "kernelspec": {
   "display_name": "Python 3.9.12 ('base')",
   "language": "python",
   "name": "python3"
  },
  "language_info": {
   "codemirror_mode": {
    "name": "ipython",
    "version": 3
   },
   "file_extension": ".py",
   "mimetype": "text/x-python",
   "name": "python",
   "nbconvert_exporter": "python",
   "pygments_lexer": "ipython3",
   "version": "3.9.12"
  },
  "vscode": {
   "interpreter": {
    "hash": "d4d1e4263499bec80672ea0156c357c1ee493ec2b1c70f0acce89fc37c4a6abe"
   }
  }
 },
 "nbformat": 4,
 "nbformat_minor": 4
}
