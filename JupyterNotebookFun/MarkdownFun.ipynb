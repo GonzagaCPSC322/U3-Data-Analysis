{
 "cells": [
  {
   "cell_type": "code",
   "execution_count": 2,
   "metadata": {},
   "outputs": [
    {
     "name": "stdout",
     "output_type": "stream",
     "text": [
      "hello\n"
     ]
    }
   ],
   "source": [
    "print(\"hello\")"
   ]
  },
  {
   "cell_type": "markdown",
   "metadata": {},
   "source": [
    "Jupyter Notebook: a list of interleaved code and markdown cells (used to tell a code story)\n",
    "\n",
    "# Level 1 Header\n",
    "## Level 2 Header\n",
    "This is paragraph text\n",
    "\n",
    "Soft break  \n",
    "Next line\n",
    "\n",
    "Hard break\n",
    "\n",
    "Next line"
   ]
  },
  {
   "cell_type": "markdown",
   "metadata": {},
   "source": [
    "## Formatting\n",
    "We can *italicize*, we can **bold**, we can ~~strikethrough~~, we can code highlight: `x = 5`\n",
    "\n",
    "```python\n",
    "for i in range(5):\n",
    "    print(i)\n",
    "```"
   ]
  },
  {
   "cell_type": "markdown",
   "metadata": {},
   "source": [
    "## Lists\n",
    "* Unordered lists\n",
    "    * Item A\n",
    "    * Item B\n",
    "* Next item\n",
    "\n",
    "1. Ordered lists\n",
    "    1. Item A\n",
    "    1. Item B\n",
    "1. Next item\n",
    "\n",
    "Example:  \n",
    "There are multiple ways to edit/run a Jupyter Notebook:\n",
    "1. Locally\n",
    "    * VS Code w/Jupyter Extension, Jupyter Lab, Jupyter Notebook (old; not recommended)\n",
    "1. In the cloud\n",
    "    * Google Colab, Kaggle Notebook, AWS SageMaker, GCP VertexAI, ..."
   ]
  },
  {
   "cell_type": "markdown",
   "metadata": {},
   "source": [
    "## Links and Images\n",
    "I highly recommend you do [this markdown tutorial](https://www.markdowntutorial.com/)\n",
    "\n",
    "![alt text](https://akshayranganath-res.cloudinary.com/image/upload/f_auto,q_auto/blog/markdown.png)\n",
    "\n",
    "<img src=\"https://akshayranganath-res.cloudinary.com/image/upload/f_auto,q_auto/blog/markdown.png\" width=\"300\"/>"
   ]
  },
  {
   "cell_type": "markdown",
   "metadata": {},
   "source": [
    "## Tables\n",
    "|Car Name| Model Year | MSRP|\n",
    "|-|-|-|\n",
    "|ford pinto|75|2711|\n",
    "|toyota corolla|76|3011|"
   ]
  },
  {
   "cell_type": "markdown",
   "metadata": {},
   "source": [
    "## Latex (Math Mode)\n",
    "Latex is a powerful mathematical typsetting language/doc management system. It supports inline math mode: $y = mx + b$\n",
    "\n",
    "It also supports block/centered math mode: $$y = mx + b$$\n",
    "\n",
    "Subscript: $x_i$ $x_{i + 1}$  \n",
    "Superscript: $x^i$ $x^{i + 1}$\n",
    "\n",
    "See the Jupyter/Latex Cheat Sheet for others you might need in this class! :)"
   ]
  },
  {
   "cell_type": "code",
   "execution_count": 2,
   "metadata": {},
   "outputs": [
    {
     "name": "stdout",
     "output_type": "stream",
     "text": [
      "hello from dummy function (again!!)\n"
     ]
    }
   ],
   "source": [
    "import utils\n",
    "import importlib\n",
    "importlib.reload(utils)\n",
    "\n",
    "utils.dummy_function()"
   ]
  }
 ],
 "metadata": {
  "kernelspec": {
   "display_name": "base",
   "language": "python",
   "name": "python3"
  },
  "language_info": {
   "name": "python",
   "version": "3.12.4"
  }
 },
 "nbformat": 4,
 "nbformat_minor": 2
}
